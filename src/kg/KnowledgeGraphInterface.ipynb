{
 "cells": [
  {
   "cell_type": "markdown",
   "metadata": {},
   "source": [
    "# Smart flash cards using LLMs"
   ]
  },
  {
   "cell_type": "code",
   "execution_count": null,
   "metadata": {},
   "outputs": [],
   "source": [
    "import os\n",
    "import openai # make sure to pip install openai\n",
    "import re\n",
    "import json\n",
    "import numpy as np\n",
    "import pandas as pd\n",
    "from collections import Counter\n",
    "from typing import Any, Optional, Tuple, Dict, List, NamedTuple, Set\n",
    "import scipy\n",
    "import time\n",
    "\n",
    "from pprint import pprint as pprint\n",
    "import matplotlib.pyplot as plt\n",
    "import matplotlib as mpl\n",
    "\n",
    "mpl.rcParams['figure.dpi'] = 100\n",
    "\n",
    "import umap   # 一种降维算法\n",
    "import hdbscan # 一种聚类算法\n",
    "import plotly.express as px\n",
    "import ipywidgets as widgets\n",
    "from IPython.display import display\n",
    "import tkinter as tk\n",
    "from tkinter import ttk\n",
    "\n",
    "\n",
    "\n",
    "from basic_utils import *\n",
    "from basic_user_interface import *\n",
    "from initial_card_processing import *\n",
    "from knowledge_graph import *\n",
    "from knowledge_graph_querying import *"
   ]
  },
  {
   "cell_type": "markdown",
   "metadata": {},
   "source": [
    "## Process initial flashcards to extract info"
   ]
  },
  {
   "cell_type": "code",
   "execution_count": null,
   "metadata": {},
   "outputs": [],
   "source": [
    "# process my basic flashcards from online\n",
    "csv_title = 'my_flash_cards_general' \n",
    "verbose=False\n",
    "cards_df_abstraction_groups = get_cards_df_abstraction_groups_from_front_and_back_csv(csv_title, verbose=verbose)\n",
    "save_cards_df_to_json(cards_df_abstraction_groups, csv_title + '_cards_df_abstraction_groups')"
   ]
  },
  {
   "cell_type": "markdown",
   "metadata": {},
   "source": [
    "## Build a Knowledge Graph"
   ]
  },
  {
   "cell_type": "code",
   "execution_count": null,
   "metadata": {},
   "outputs": [],
   "source": [
    "# Reload basic cards to start to make knowledge graph \n",
    "cards_df = read_cards_df_from_json('my_flash_cards_general_cards_df_abstraction_groups')\n",
    "\n",
    "print(\"Cards loaded:\", len(cards_df))"
   ]
  },
  {
   "cell_type": "code",
   "execution_count": null,
   "metadata": {},
   "outputs": [],
   "source": [
    "# Build a graph from real flashcard data \n",
    "kGraph = KnowledgeGraph(lower_bound_epsilon=0.05)"
   ]
  },
  {
   "cell_type": "code",
   "execution_count": null,
   "metadata": {},
   "outputs": [],
   "source": [
    "# Add card deck to kGraph\n",
    "card_deck = create_card_deck_from_dataframe_of_abstraction_groups(cards_df)\n",
    "title_list = kGraph.add_card_deck(card_deck, verbose=True)\n",
    "kGraph.update_all_embeddings(verbose=True)"
   ]
  },
  {
   "cell_type": "markdown",
   "metadata": {},
   "source": [
    "## Visualize graph\n",
    "### Build similarity matrix"
   ]
  },
  {
   "cell_type": "code",
   "execution_count": null,
   "metadata": {},
   "outputs": [],
   "source": [
    "# Visualize the card-card overlap. This is a bit slow to run (20-30 seconds)\n",
    "\n",
    "cardIDs = np.array(list(kGraph.cards.keys()))\n",
    "cardIDs.sort()  # low to high\n",
    "\n",
    "similarity_metric = np.zeros((len(cardIDs), len(cardIDs)))\n",
    "\n",
    "name_labels = [kGraph.cards[cardID].topic for cardID in range(len(similarity_metric))]\n",
    "\n",
    "for cardID1 in cardIDs:\n",
    "    emb_vec1 = kGraph.cards[cardID1].embedding_vector_trimmed\n",
    "    similarity_metric[cardID1,cardID1] = 1.0  # diag is 1 by definition\n",
    "    for cardID2 in cardIDs:\n",
    "        if cardID2 > cardID1:\n",
    "            emb_vec2 = kGraph.cards[cardID2].embedding_vector_trimmed\n",
    "            inner_prod = emb_vec_inner_product(emb_vec1, emb_vec2)\n",
    "            similarity_metric[cardID1, cardID2] = (inner_prod + 1e-13)/(1.0 + 1e-13)\n",
    "            similarity_metric[cardID2, cardID1] = (inner_prod + 1e-13)/(1.0 + 1e-13)"
   ]
  },
  {
   "cell_type": "code",
   "execution_count": null,
   "metadata": {},
   "outputs": [],
   "source": [
    "'''\n",
    "这是 matplotlib.pyplot 中的一个函数，用于一次性创建多个子图。\n",
    "它返回两个对象：\n",
    "fig: 表示整个图的容器（Figure）。\n",
    "ax: 表示子图的容器（Axes）。这里返回的是一个包含两个子图的数组。\n",
    "'''\n",
    "fig, ax = plt.subplots(1,2, figsize=(6, 3))\n",
    "'''\n",
    "imshow:\n",
    "\n",
    "这是一个用于绘制二维数组（矩阵）的函数，常用于可视化矩阵、图像或热图。\n",
    "它会将矩阵 similarity_metric 的值映射为颜色。\n",
    "参数解释:\n",
    "\n",
    "similarity_metric: 这是一个二维数组（矩阵），表示某种“相似性指标”。\n",
    "vmin=0, vmax=1: 指定颜色映射的值域，矩阵值小于 0 的部分会被映射为最小颜色，大于 1 的部分会被映射为最大颜色。\n",
    "cmap='gnuplot2': 设置颜色映射表，这里使用的是 gnuplot2 配色方案。\n",
    "'''\n",
    "ax[0].imshow(similarity_metric, vmin=0, vmax=1, cmap='gnuplot2')\n",
    "ax[0].set_xlabel('Card index')\n",
    "ax[0].set_ylabel('Card index')\n",
    "ax[0].set_title('Similarity Metric')\n",
    "ax[1].hist(similarity_metric.flatten(), bins=100)\n",
    "ax[1].set_xlabel('Card overlap')\n",
    "ax[1].set_ylabel('Counts')\n",
    "ax[1].set_title('Similarity Histogram')\n",
    "ax[1].set_yscale('log') # 设置 y 轴为对数刻度\n",
    "plt.subplots_adjust(wspace=0.4)\n",
    "plt.show()"
   ]
  },
  {
   "cell_type": "markdown",
   "metadata": {},
   "source": [
    "### Display a few nodes/cards"
   ]
  },
  {
   "cell_type": "code",
   "execution_count": null,
   "metadata": {},
   "outputs": [],
   "source": [
    "node_title = 'MCTS'\n",
    "node = kGraph.nodes[node_title]\n",
    "kGraph.display_object_overlaps(node)\n",
    "\n",
    "card = kGraph.cards[4]\n",
    "card.display(verbose=True)     \n",
    "kGraph.display_object_overlaps(card)"
   ]
  }
 ],
 "metadata": {
  "kernelspec": {
   "display_name": "badouai",
   "language": "python",
   "name": "python3"
  },
  "language_info": {
   "name": "python",
   "version": "3.12.8"
  }
 },
 "nbformat": 4,
 "nbformat_minor": 2
}
